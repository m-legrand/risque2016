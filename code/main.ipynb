{
 "cells": [
  {
   "cell_type": "markdown",
   "metadata": {},
   "source": [
    "# Exploitation du code et des données"
   ]
  },
  {
   "cell_type": "code",
   "execution_count": null,
   "metadata": {
    "collapsed": true
   },
   "outputs": [],
   "source": [
    "import matplotlib.pyplot as plt\n",
    "import numpy as np\n",
    "import pandas as pd\n",
    "import seaborn as sns\n",
    "\n",
    "from collections import defaultdict\n",
    "\n",
    "%matplotlib inline"
   ]
  },
  {
   "cell_type": "markdown",
   "metadata": {},
   "source": [
    "## 1. Visualisation des données"
   ]
  },
  {
   "cell_type": "code",
   "execution_count": null,
   "metadata": {
    "collapsed": false
   },
   "outputs": [],
   "source": [
    "df_map = pd.DataFrame.from_csv('data/20160630_CDS_Id_Mapping.csv', sep=';', index_col='CDS_Id')\n",
    "df_cds = pd.DataFrame.from_csv('data/20160630_ITRAXX5Y.csv', sep=';', index_col='Date')"
   ]
  },
  {
   "cell_type": "code",
   "execution_count": null,
   "metadata": {
    "collapsed": false
   },
   "outputs": [],
   "source": [
    "print 'data/20160630_CDS_Id_Mapping.csv :\\n'\n",
    "print df_map.head(3)\n",
    "print ''\n",
    "print 'data/20160630_ITRAXX5Y.csv :\\n'\n",
    "print df_cds.head(3)"
   ]
  },
  {
   "cell_type": "code",
   "execution_count": null,
   "metadata": {
    "collapsed": false
   },
   "outputs": [],
   "source": [
    "dc_map = defaultdict(list)\n",
    "for _id, _name in df_map.itertuples():\n",
    "    dc_map[_name].append(_id)"
   ]
  },
  {
   "cell_type": "code",
   "execution_count": null,
   "metadata": {
    "collapsed": false
   },
   "outputs": [],
   "source": [
    "_names = ['Credit Agricole', 'Nestle', 'Societe Generale']\n",
    "for _name in _names:\n",
    "    fig, axes = plt.subplots(nrows=1, ncols=1, figsize=(20, 4))\n",
    "    for _i, _id in enumerate(dc_map[_name]):\n",
    "        df_cds.loc[df_cds.loc[:, 'CDS_Id'] == _id, 'Y05'].plot(\n",
    "            title = _name\n",
    "            , ax = axes\n",
    "            , label = 'Spot of CDS n°' + str(_id))\n",
    "    plt.legend()\n",
    "    plt.show()"
   ]
  },
  {
   "cell_type": "markdown",
   "metadata": {},
   "source": [
    "On remarque un bouleversement des valeurs des CDS au cours de l'année 2007... quel hasard !"
   ]
  },
  {
   "cell_type": "markdown",
   "metadata": {},
   "source": [
    "## 2. Analyse des rendements des CDS"
   ]
  },
  {
   "cell_type": "markdown",
   "metadata": {},
   "source": [
    "L'article sur lequel porte notre projet traite des distributions des rendements des actifs. Avant d'appliquer les méthodes décrites dans ce dernier, nous devons transformer nos données de sorte à n'avoir à travailler qu'avec des rendements d'actifs (ici des CDS) sur lesquels on construira à terme notre porte-feuille d'actions optimisé au sens de Malevergne et Sornette."
   ]
  },
  {
   "cell_type": "code",
   "execution_count": null,
   "metadata": {
    "collapsed": false
   },
   "outputs": [],
   "source": [
    "dc_returns = {}\n",
    "for _id in df_map.index.values:\n",
    "    dc_returns[_id] = (\n",
    "            df_cds.loc[df_cds.loc[:, 'CDS_Id'] == _id, 'Y05'].diff()    # absolute return...\n",
    "            / df_cds.loc[df_cds.loc[:, 'CDS_Id'] == _id, 'Y05'].shift() # ... got normalized\n",
    "        )"
   ]
  },
  {
   "cell_type": "code",
   "execution_count": null,
   "metadata": {
    "collapsed": false
   },
   "outputs": [],
   "source": [
    "_names = ['Societe Generale']\n",
    "for _name in _names:\n",
    "    fig, axes = plt.subplots(nrows=1, ncols=1, figsize=(20, 4))\n",
    "    for _id in dc_map[_name]:\n",
    "        dc_returns[_id].plot(\n",
    "            title = _name\n",
    "            , ax = axes\n",
    "            , label = 'Return of CDS n°' + str(_id))\n",
    "    plt.legend()\n",
    "    plt.show()"
   ]
  },
  {
   "cell_type": "code",
   "execution_count": null,
   "metadata": {
    "collapsed": false
   },
   "outputs": [],
   "source": [
    "_names = ['Societe Generale', 'Nestle']\n",
    "for _name in _names:\n",
    "    _n = len(dc_map[_name])\n",
    "    fig, axes = plt.subplots(nrows=_n, ncols=1, figsize=(20, 4*_n), sharex=True)\n",
    "    plt.subplots_adjust(top=0.9)\n",
    "    for _i, _id in enumerate(dc_map[_name]):\n",
    "        try:\n",
    "            ax = axes[_i]\n",
    "        except TypeError:\n",
    "            ax = axes\n",
    "        df = dc_returns[_id]\n",
    "        ax.set_title(u\"Distribution of CDS n°{} - {}\".format(_id, _name))\n",
    "        sns.distplot(df[df == df]\n",
    "                     , ax = ax\n",
    "                    )\n",
    "    plt.show()"
   ]
  },
  {
   "cell_type": "markdown",
   "metadata": {},
   "source": [
    "La distribution des rendements n'est pas du tout gaussienne."
   ]
  }
 ],
 "metadata": {
  "kernelspec": {
   "display_name": "Python 2",
   "language": "python",
   "name": "python2"
  },
  "language_info": {
   "codemirror_mode": {
    "name": "ipython",
    "version": 2
   },
   "file_extension": ".py",
   "mimetype": "text/x-python",
   "name": "python",
   "nbconvert_exporter": "python",
   "pygments_lexer": "ipython2",
   "version": "2.7.12"
  }
 },
 "nbformat": 4,
 "nbformat_minor": 0
}
